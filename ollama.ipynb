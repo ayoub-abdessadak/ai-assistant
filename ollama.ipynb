{
 "cells": [
  {
   "cell_type": "code",
   "execution_count": 1,
   "metadata": {},
   "outputs": [],
   "source": [
    "import openai\n",
    "client = openai.Client(base_url=\"http://localhost:11434/v1\", api_key=\"ollama\") \n",
    "response = client.chat.completions.create(model=\"deepseek-r1:1.5b\", messages=[{ \"role\": \"user\", \"content\": \"\"\">>> print b\n",
    "  File \"<stdin>\", line 1\n",
    "    print b\n",
    "    ^^^^^^^\n",
    "SyntaxError: Missing parentheses in call to 'print'. Did you mean print(...)?\n",
    "\"\"\"}])"
   ]
  },
  {
   "cell_type": "code",
   "execution_count": 4,
   "metadata": {},
   "outputs": [],
   "source": [
    "response = client.chat.completions.create(model=\"deepseek-r1:1.5b\", messages=[{ \"role\": \"user\", \"content\": \"\"\">>> print b\n",
    "  File \"<stdin>\", line 1\n",
    "    print b\n",
    "    ^^^^^^^\n",
    "SyntaxError: Missing parentheses in call to 'print'. Did you mean print(...)?\n",
    "\"\"\"}])"
   ]
  },
  {
   "cell_type": "code",
   "execution_count": 4,
   "metadata": {},
   "outputs": [],
   "source": [
    "response = client.chat.completions.create(model=\"deepseek-r1:1.5b\", messages=[{ \"role\": \"user\", \"content\": \"\"\">>> print b\n",
    "  File \"<stdin>\", line 1\n",
    "    print b\n",
    "    ^^^^^^^\n",
    "SyntaxError: Missing parentheses in call to 'print'. Did you mean print(...)?\n",
    "\"\"\"}])"
   ]
  },
  {
   "cell_type": "code",
   "execution_count": 2,
   "metadata": {},
   "outputs": [
    {
     "name": "stderr",
     "output_type": "stream",
     "text": [
      "/tmp/ipykernel_129269/1094905372.py:2: PydanticDeprecatedSince20: The `json` method is deprecated; use `model_dump_json` instead. Deprecated in Pydantic V2.0 to be removed in V3.0. See Pydantic V2 Migration Guide at https://errors.pydantic.dev/2.10/migration/\n",
      "  r = json.loads(response.json())\n"
     ]
    }
   ],
   "source": [
    "import json\n",
    "r = json.loads(response.json())\n",
    "content = r[\"choices\"][0][\"message\"]['content']\n",
    "csplit = content.split()\n",
    "message = \" \".join(csplit[csplit.index(\"</think>\")+1::])"
   ]
  },
  {
   "cell_type": "code",
   "execution_count": 3,
   "metadata": {},
   "outputs": [
    {
     "name": "stdout",
     "output_type": "stream",
     "text": [
      "The issue occurs because attempting to call `print()` with a single argument without specifying what it should print results in a syntax error. To fix this, ensure that an expression is provided within parentheses when calling `print()`. For example: - By creating a variable `b` and printing it: ```python b = 'hello' print(b) ``` - Alternatively, using the string concatenation method: ```python print(str(b)) ``` **Solved Solution:** ```python # Define a value for b before printing or read from input before printing. print('solo read in terminal from command line interface') ``` This will properly invoke the `print()` function in a terminal window, showing the output as expected.\n"
     ]
    }
   ],
   "source": [
    "print(message)"
   ]
  },
  {
   "cell_type": "code",
   "execution_count": null,
   "metadata": {},
   "outputs": [],
   "source": []
  }
 ],
 "metadata": {
  "kernelspec": {
   "display_name": "base",
   "language": "python",
   "name": "python3"
  },
  "language_info": {
   "codemirror_mode": {
    "name": "ipython",
    "version": 3
   },
   "file_extension": ".py",
   "mimetype": "text/x-python",
   "name": "python",
   "nbconvert_exporter": "python",
   "pygments_lexer": "ipython3",
   "version": "3.12.3"
  }
 },
 "nbformat": 4,
 "nbformat_minor": 4
}
